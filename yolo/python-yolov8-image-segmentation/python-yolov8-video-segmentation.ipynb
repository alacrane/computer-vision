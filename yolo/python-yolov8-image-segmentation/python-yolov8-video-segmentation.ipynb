{
 "cells": [
  {
   "cell_type": "code",
   "execution_count": 2,
   "id": "453c13f9",
   "metadata": {},
   "outputs": [],
   "source": [
    "import math\n",
    "import time\n",
    "import cv2 as cv\n",
    "from ultralytics import YOLO"
   ]
  },
  {
   "cell_type": "code",
   "execution_count": 3,
   "id": "7f55a9ce",
   "metadata": {},
   "outputs": [],
   "source": [
    "# Load the YOLOv8 nano segmentation model (pretrained) from Ultralytics\n",
    "model = YOLO('yolov8n-seg.pt')"
   ]
  },
  {
   "cell_type": "code",
   "execution_count": 4,
   "id": "ed9428cd",
   "metadata": {},
   "outputs": [],
   "source": [
    "# get frame per seconds\n",
    "def fps(start, end):\n",
    "    return int(1//(end-start))"
   ]
  },
  {
   "cell_type": "code",
   "execution_count": 9,
   "id": "0acf3f0b",
   "metadata": {},
   "outputs": [
    {
     "name": "stdout",
     "output_type": "stream",
     "text": [
      "\n",
      "0: 448x640 6 persons, 6 cars, 67.4ms\n",
      "Speed: 1.6ms preprocess, 67.4ms inference, 4.2ms postprocess per image at shape (1, 3, 448, 640)\n",
      "No camera/video detected, aborting...\n",
      "closing application...\n"
     ]
    }
   ],
   "source": [
    "# Define the path to the video file from https://www.pexels.com/search/videos/\n",
    "path = 'videos/traffic_01.mp4'                        \n",
    "#path = 'videos/traffic_02.mp4'  \n",
    "#path = 'videos/office_01.mp4'  \n",
    "path = 'images/traffic_01.jpg'   \n",
    "\n",
    "\n",
    "# Create a VideoCapture object to read frames from the video\n",
    "videoCapture = cv.VideoCapture(path)\n",
    "\n",
    "# Main execution block\n",
    "try:\n",
    "    # Loop while the video is open and frames can be read\n",
    "    while videoCapture.isOpened():\n",
    "        # Read a frame from the video\n",
    "        success, image = videoCapture.read()\n",
    "\n",
    "        # If the frame couldn't be read (end of video or error), wait 3 seconds and exit\n",
    "        if not success:\n",
    "            print('No camera/video detected, aborting...')\n",
    "            time.sleep(3)\n",
    "            break\n",
    "\n",
    "        # Measure time before and after model inference to calculate FPS\n",
    "        start = time.perf_counter()\n",
    "        results = model(image)  # Apply YOLO model to the frame\n",
    "        end = time.perf_counter()\n",
    "\n",
    "        # Get the segmented image with visual overlays\n",
    "        segments = results[0].plot()\n",
    "\n",
    "        # Display FPS in the top-left corner\n",
    "        cv.putText(segments, f'fps: {fps(start, end)}', (10, 30),\n",
    "                   cv.FONT_HERSHEY_SIMPLEX, 1, (0, 255, 0), 2)\n",
    "\n",
    "        # Prepare the \"Press the 'q' key to quit\" message\n",
    "        text = 'Press the \"q\" key to quit'\n",
    "        font = cv.FONT_HERSHEY_SIMPLEX\n",
    "        font_scale = 1\n",
    "        thickness = 2\n",
    "        color = (0, 0, 255)\n",
    "\n",
    "        # Calculate text size to center it horizontally\n",
    "        (text_width, text_height), _ = cv.getTextSize(text, font, font_scale, thickness)\n",
    "        x = (segments.shape[1] - text_width) // 2  # Center horizontally\n",
    "        y = 30  # Distance from the top edge\n",
    "\n",
    "        # Draw the message on the image\n",
    "        cv.putText(segments, text, (x, y), font, font_scale, color, thickness)\n",
    "\n",
    "        # Show the processed frame in a window\n",
    "        cv.imshow('Image Segmentation', segments)\n",
    "\n",
    "        # Check if the user pressed the \"q\" key to exit\n",
    "        key = cv.waitKey(1)\n",
    "        if key & 0xFF == ord('q'):\n",
    "            print('Exit sequence initiated')\n",
    "            break\n",
    "\n",
    "# Final cleanup block, runs regardless of success or error\n",
    "finally:\n",
    "    print(\"closing application...\")\n",
    "    videoCapture.release()      # Release the video resource\n",
    "    cv.destroyAllWindows()      # Close all OpenCV windows\n"
   ]
  }
 ],
 "metadata": {
  "kernelspec": {
   "display_name": "env (3.10.17)",
   "language": "python",
   "name": "python3"
  },
  "language_info": {
   "codemirror_mode": {
    "name": "ipython",
    "version": 3
   },
   "file_extension": ".py",
   "mimetype": "text/x-python",
   "name": "python",
   "nbconvert_exporter": "python",
   "pygments_lexer": "ipython3",
   "version": "3.10.17"
  }
 },
 "nbformat": 4,
 "nbformat_minor": 5
}
