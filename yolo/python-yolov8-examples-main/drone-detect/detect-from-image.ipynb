{
 "cells": [
  {
   "cell_type": "code",
   "execution_count": null,
   "id": "dbd53cbd",
   "metadata": {},
   "outputs": [],
   "source": [
    "!pip install opencv-python --trusted-host pypi.org --trusted-host files.pythonhosted.org\n",
    "pip install cvzone --trusted-host pypi.org --trusted-host files.pythonhosted.org\n",
    "pip install ultralytics --trusted-host pypi.org --trusted-host files.pythonhosted.org"
   ]
  },
  {
   "cell_type": "code",
   "execution_count": 1,
   "id": "552bf0ec",
   "metadata": {},
   "outputs": [],
   "source": [
    "import math\n",
    "import cv2\n",
    "import cvzone\n",
    "from ultralytics import YOLO"
   ]
  },
  {
   "cell_type": "code",
   "execution_count": 2,
   "id": "5057aca3",
   "metadata": {},
   "outputs": [],
   "source": [
    "def process_image(img, model=YOLO('model.pt'), stream=False):\n",
    "    # find objects in image by using model\n",
    "    results = model(img, stream)\n",
    "\n",
    "    for result in results:\n",
    "        for box in result.boxes:\n",
    "            # object box\n",
    "            x1, y1, x2, y2 = box.xyxy[0].int().tolist()\n",
    "            \n",
    "            # object center\n",
    "            cx, cy = x1 + (x2 - x1) // 2, y1 + (y2 - y1) // 2\n",
    "            \n",
    "            # image width and height\n",
    "            iw, ih = img.shape[:2][::-1]\n",
    "            \n",
    "            # center coordinates of image\n",
    "            icx, icy = iw // 2, ih // 2\n",
    "            \n",
    "            # center distances (Euclidian distance)\n",
    "            cdist = int(math.sqrt((icx - cx) ** 2 + (icy - cy) ** 2))\n",
    "            \n",
    "            # confidency\n",
    "            conf = math.ceil((box.conf[0] * 100)) / 100\n",
    "            \n",
    "            # detected/predicted class name\n",
    "            cls = result.names[int(box.cls[0])]\n",
    "\n",
    "            # draw object box\n",
    "            cv2.rectangle(img, (x1, y1), (x2, y2), (255, 0, 255), 1)\n",
    "\n",
    "            # put class and confidency on object in image\n",
    "            cvzone.putTextRect(img, f'{cls} {conf}', (max(0, x1+5), max(0, y1 - 15)), scale=1, thickness=1)\n",
    "\n",
    "            # draw a circle in the center of image\n",
    "            cv2.circle(img, (cx, cy), 5, (255, 0, 255), cv2.FILLED)\n",
    "\n",
    "            # put distance bottom of the object box\n",
    "            cvzone.putTextRect(img, f'{cdist}', (max(0, x1+5), min(ih - 25, y2 + 25)), scale=1, thickness=1)\n",
    "\n",
    "            # draw a circle in the center of object\n",
    "            cv2.circle(img, (icx, icy), 5, (255, 0, 255), cv2.FILLED)\n",
    "\n",
    "            # draw borders with %10 inset\n",
    "            cv2.rectangle(img, (int(iw * 0.1), int(ih * 0.1)), (int(iw * 0.9), int(ih * 0.9)), (255, 0, 255), 1)\n",
    "\n",
    "            # draw a line from image center to object center\n",
    "            cv2.line(img, (icx, icy), (cx, cy), (255, 0, 255), 1)\n"
   ]
  },
  {
   "cell_type": "code",
   "execution_count": 3,
   "id": "e5d3d623",
   "metadata": {},
   "outputs": [
    {
     "name": "stdout",
     "output_type": "stream",
     "text": [
      "\n",
      "0: 448x640 1 Drone, 146.0ms\n",
      "Speed: 17.8ms preprocess, 146.0ms inference, 1.1ms postprocess per image at shape (1, 3, 448, 640)\n"
     ]
    }
   ],
   "source": [
    "if __name__ == '__main__':\n",
    "    \n",
    "    # read image\n",
    "    img = cv2.imread(\"example-images/20.png\")\n",
    "\n",
    "    # process image and try to find object\n",
    "    process_image(img)\n",
    "\n",
    "    # show result in opencv window\n",
    "    cv2.imshow(\"Image\", img)\n",
    "\n",
    "    # wait to press any key\n",
    "    cv2.waitKey(0)\n",
    "    \n",
    "    # destroy opencv window\n",
    "    cv2.destroyAllWindows() \n"
   ]
  }
 ],
 "metadata": {
  "kernelspec": {
   "display_name": "env (3.10.17)",
   "language": "python",
   "name": "python3"
  },
  "language_info": {
   "codemirror_mode": {
    "name": "ipython",
    "version": 3
   },
   "file_extension": ".py",
   "mimetype": "text/x-python",
   "name": "python",
   "nbconvert_exporter": "python",
   "pygments_lexer": "ipython3",
   "version": "3.10.17"
  }
 },
 "nbformat": 4,
 "nbformat_minor": 5
}
